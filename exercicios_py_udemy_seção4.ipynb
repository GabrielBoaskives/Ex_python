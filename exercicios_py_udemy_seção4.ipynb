{
  "nbformat": 4,
  "nbformat_minor": 0,
  "metadata": {
    "colab": {
      "name": "exercicios_py_udemy_seção4",
      "provenance": [],
      "authorship_tag": "ABX9TyMhQoxaueWlQdqEz8NiKmAG",
      "include_colab_link": true
    },
    "kernelspec": {
      "name": "python3",
      "display_name": "Python 3"
    },
    "language_info": {
      "name": "python"
    }
  },
  "cells": [
    {
      "cell_type": "markdown",
      "metadata": {
        "id": "view-in-github",
        "colab_type": "text"
      },
      "source": [
        "<a href=\"https://colab.research.google.com/github/GabrielBoaskives/Ex_python/blob/main/exercicios_py_udemy_se%C3%A7%C3%A3o4.ipynb\" target=\"_parent\"><img src=\"https://colab.research.google.com/assets/colab-badge.svg\" alt=\"Open In Colab\"/></a>"
      ]
    },
    {
      "cell_type": "code",
      "execution_count": null,
      "metadata": {
        "id": "JmMxqmq3vmnv"
      },
      "outputs": [],
      "source": [
        ""
      ]
    },
    {
      "cell_type": "code",
      "source": [
        "num = input('Escreva um numero:')\n",
        "print(num)"
      ],
      "metadata": {
        "colab": {
          "base_uri": "https://localhost:8080/"
        },
        "id": "RYOoS3mVvuXa",
        "outputId": "97d06d02-361a-4f96-ed33-2605bc5327dd"
      },
      "execution_count": 1,
      "outputs": [
        {
          "output_type": "stream",
          "name": "stdout",
          "text": [
            "Escreva um numero:15\n",
            "15\n"
          ]
        }
      ]
    },
    {
      "cell_type": "code",
      "source": [
        "num = input(\"Escreva um numero:\")\n",
        "print(num)"
      ],
      "metadata": {
        "colab": {
          "base_uri": "https://localhost:8080/"
        },
        "id": "21FIVWQ7v5sy",
        "outputId": "7120c17c-3094-44a2-9900-1392eee8e19d"
      },
      "execution_count": 3,
      "outputs": [
        {
          "output_type": "stream",
          "name": "stdout",
          "text": [
            "Escreva um numero:12.4\n",
            "12.4\n"
          ]
        }
      ]
    },
    {
      "cell_type": "code",
      "source": [
        "num1 = int(input(\"Escreva o primeiro número:\"))\n",
        "num2 = int(input(\"Escreva o segundo número:\"))\n",
        "num3 = int(input(\"Escreva o terceiro número:\"))\n",
        "print(f'A soma de {num1},{num2} e {num3} é {num1+num2+num3}')"
      ],
      "metadata": {
        "id": "zkNkeuiZwPy4"
      },
      "execution_count": null,
      "outputs": []
    },
    {
      "cell_type": "code",
      "source": [
        "num = input('Escreva um número para saber seu quadrado:')\n",
        "\n",
        "print(f'O quadrado de {num} é {int(num)**2}')"
      ],
      "metadata": {
        "colab": {
          "base_uri": "https://localhost:8080/"
        },
        "id": "VV10d9m4yZ0L",
        "outputId": "4482579e-ddb7-470b-aa23-b413f594a822"
      },
      "execution_count": 10,
      "outputs": [
        {
          "output_type": "stream",
          "name": "stdout",
          "text": [
            "Escreva um número para saber seu quadrad:147\n",
            "O quadrado de 147 é 21609\n"
          ]
        }
      ]
    },
    {
      "cell_type": "code",
      "source": [
        "num = float(input('Digite um número:'))\n",
        "print(type(num))\n",
        "print(f'A quinta parte de {num} é {num/5}')\n",
        "print(type(num))"
      ],
      "metadata": {
        "colab": {
          "base_uri": "https://localhost:8080/"
        },
        "id": "vDHXNxZ8zIZN",
        "outputId": "f48cf9fb-7c94-4ee4-e8c7-10184007ae02"
      },
      "execution_count": 21,
      "outputs": [
        {
          "output_type": "stream",
          "name": "stdout",
          "text": [
            "Digite um número:100\n",
            "<class 'float'>\n",
            "A quinta parte de 100.0 é 20.0\n",
            "<class 'float'>\n"
          ]
        }
      ]
    },
    {
      "cell_type": "code",
      "source": [
        "temp_celsius = float(input('Digite a temperatura em celsius:'))\n",
        "temp_fah = temp_celsius*(9.0/5.0)+32.0\n",
        "print(type(temp_fah))\n",
        "print(f'{temp_celsius} equivale a {temp_fah:.2f} graus Fahrenheit.')\n"
      ],
      "metadata": {
        "colab": {
          "base_uri": "https://localhost:8080/"
        },
        "id": "oo2O4Nle04Vs",
        "outputId": "dffcc4f3-7f32-4225-aff4-748661ca957d"
      },
      "execution_count": 27,
      "outputs": [
        {
          "output_type": "stream",
          "name": "stdout",
          "text": [
            "Digite a temperatura em celsius:32.7\n",
            "<class 'float'>\n",
            "32.7 equivale a 90.86 graus Fahrenheit.\n"
          ]
        }
      ]
    },
    {
      "cell_type": "markdown",
      "source": [
        "{:.2f} arrendonda as casas decimais\n"
      ],
      "metadata": {
        "id": "CL05AvtX39Yd"
      }
    },
    {
      "cell_type": "code",
      "source": [
        "temp_fah = float(input('Digite a temperatura em Fahrenheit:'))\n",
        "temp_celsius = 5*(temp_fah-32.0)/9.0\n",
        "print(f'{temp_fah} equivale a {temp_celsius:.2f} graus Celsius.')"
      ],
      "metadata": {
        "colab": {
          "base_uri": "https://localhost:8080/"
        },
        "id": "ZJLKkx5G4Eq9",
        "outputId": "40418f8c-c71d-4064-bb1f-b0573a906f3f"
      },
      "execution_count": 29,
      "outputs": [
        {
          "output_type": "stream",
          "name": "stdout",
          "text": [
            "Digite a temperatura em Fahrenheit:17893\n",
            "17893.0 equivale a 9922.78 graus Celsius.\n"
          ]
        }
      ]
    }
  ]
}